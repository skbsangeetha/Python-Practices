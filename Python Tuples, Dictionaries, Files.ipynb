{
 "cells": [
  {
   "cell_type": "markdown",
   "metadata": {},
   "source": [
    "# Python Tuples, Dictionaries, Reading Data from a File, Formatting Print Output"
   ]
  },
  {
   "cell_type": "markdown",
   "metadata": {},
   "source": [
    "<h1>Table of Contents<span class=\"tocSkip\"></span></h1>\n",
    "<br>\n",
    "<div class=\"toc\">\n",
    "<ul class=\"toc-item\">\n",
    "<li><span><a href=\"#Module-2-Part-3:-Python-Tuples,-Dictionaries,-Reading-Data-from-a-File,-Formatting-Print-Output\" data-toc-modified-id=\"Module-2-Part-3:-Python-Tuples,-Dictionaries,-Reading-Data-from-a-File,-Formatting-Print-Output\"> Python Tuples, Dictionaries, Reading Data from a File, Formatting Print Output</a></span>\n",
    "</li>\n",
    "<li><span><a href=\"#Table-of-Contents\" data-toc-modified-id=\"Table-of-Contents\">Table of Contents</a></span>\n",
    "</li>\n",
    "<li><span><a href=\"#Tuples\" data-toc-modified-id=\"Tuples\">Tuples</a></span>\n",
    "<ul class=\"toc-item\">\n",
    "<li><span><a href=\"#Tuple-assignments\" data-toc-modified-id=\"Tuple-assignments\">Tuple assignments</a></span>\n",
    "</li>\n",
    "<li><span><a href=\"#Create-tuples-with-the-`zip()`-function\" data-toc-modified-id=\"Create-tuples-with-the-`zip()`-function\">Create tuples with the `zip()` function</a></span>\n",
    "</li>\n",
    "</ul>\n",
    "</li>\n",
    "<li><span><a href=\"#Dictionaries\" data-toc-modified-id=\"Dictionaries\">Dictionaries</a></span>\n",
    "<ul class=\"toc-item\">\n",
    "<li><span><a href=\"#Dictionary-comprehension\" data-toc-modified-id=\"Dictionary-comprehension\">Dictionary comprehension</a></span>\n",
    "</li>\n",
    "<li><span><a href=\"#EXERCISE-4:-Word-count\" data-toc-modified-id=\"EXERCISE-4:-Word-count\">EXERCISE 4: Word count</a></span>\n",
    "</li>\n",
    "</ul>\n",
    "</li>\n",
    "<li><span><a href=\"#Reading-Data-from-a-File\" data-toc-modified-id=\"Reading-Data-from-a-File\">Reading Data from a File</a></span>\n",
    "<ul class=\"toc-item\">\n",
    "<li><span><a href=\"#Open-and-read-a-text-file\" data-toc-modified-id=\"Open-and-read-a-text-file\">Open and read a text file</a></span>\n",
    "</li>\n",
    "<li><span><a href=\"#Writing-to-a-file\" data-toc-modified-id=\"Writing-to-a-file\">Writing to a file</a></span>\n",
    "</li>\n",
    "</ul>\n",
    "</li>\n",
    "<li><span><a href=\"#Formatting-Print-Output\" data-toc-modified-id=\"Formatting-Print-Output\">Formatting Print Output</a></span>\n",
    "</li>\n",
    "<li><span><a href=\"#References\" data-toc-modified-id=\"References\">References</a></span>\n",
    "</li>\n",
    "</ul>\n",
    "</div>"
   ]
  },
  {
   "cell_type": "markdown",
   "metadata": {},
   "source": [
    "# Tuples"
   ]
  },
  {
   "cell_type": "markdown",
   "metadata": {},
   "source": [
    "__Tuples__ are similar to lists, but are immutable. A tuple is declared as a comma-separated sequence of values or using the `tuple()` function. In the example below, two tuples are created:\n",
    "- `new_tuple` is created from a comma-separated sequence of strings\n",
    "- `vowels` is created by splitting a string"
   ]
  },
  {
   "cell_type": "code",
   "execution_count": 1,
   "metadata": {},
   "outputs": [],
   "source": [
    "new_tuple = \"apple\", \"banana\", \"orange\""
   ]
  },
  {
   "cell_type": "code",
   "execution_count": 2,
   "metadata": {},
   "outputs": [
    {
     "data": {
      "text/plain": [
       "('apple', 'banana', 'orange')"
      ]
     },
     "execution_count": 2,
     "metadata": {},
     "output_type": "execute_result"
    }
   ],
   "source": [
    "new_tuple"
   ]
  },
  {
   "cell_type": "code",
   "execution_count": 3,
   "metadata": {},
   "outputs": [
    {
     "data": {
      "text/plain": [
       "tuple"
      ]
     },
     "execution_count": 3,
     "metadata": {},
     "output_type": "execute_result"
    }
   ],
   "source": [
    "type(new_tuple)"
   ]
  },
  {
   "cell_type": "code",
   "execution_count": 4,
   "metadata": {},
   "outputs": [
    {
     "data": {
      "text/plain": [
       "('y', 'e', 'i', 'o', 'u', 'A', 'E', 'I', 'O', 'U')"
      ]
     },
     "execution_count": 4,
     "metadata": {},
     "output_type": "execute_result"
    }
   ],
   "source": [
    "'''The tuple of English vowels:'''\n",
    "\n",
    "vowels = tuple('yeiouAEIOU')\n",
    "vowels"
   ]
  },
  {
   "cell_type": "code",
   "execution_count": 5,
   "metadata": {},
   "outputs": [
    {
     "name": "stdout",
     "output_type": "stream",
     "text": [
      "('one',)\n",
      "()\n"
     ]
    },
    {
     "data": {
      "text/plain": [
       "('a', 'e', 'i', 'o', 'u', 'A', 'E', 'I', 'O', 'U')"
      ]
     },
     "execution_count": 5,
     "metadata": {},
     "output_type": "execute_result"
    }
   ],
   "source": [
    "'''Since a tuple is immutable, it cannot be changed.\n",
    "Instead, a new tuple will be created.'''\n",
    "\n",
    "vowels_corrected = ('a',) + vowels[1:]\n",
    "t_single_elem = (\"one\",)\n",
    "empty_tuple = ()\n",
    "\n",
    "print(t_single_elem)\n",
    "print(empty_tuple)\n",
    "vowels_corrected"
   ]
  },
  {
   "cell_type": "markdown",
   "metadata": {},
   "source": [
    "## Tuple assignments"
   ]
  },
  {
   "cell_type": "markdown",
   "metadata": {},
   "source": [
    "Tuples can be used to easily swap the values of two variables. This can be achieved in Python without the need for a temporary variable, in one line of code:"
   ]
  },
  {
   "cell_type": "code",
   "execution_count": 6,
   "metadata": {},
   "outputs": [
    {
     "name": "stdout",
     "output_type": "stream",
     "text": [
      "5\n",
      "1\n"
     ]
    }
   ],
   "source": [
    "a = 1\n",
    "b = 5\n",
    "\n",
    "a,b = b,a\n",
    "\n",
    "print(a)\n",
    "print(b)"
   ]
  },
  {
   "cell_type": "markdown",
   "metadata": {},
   "source": [
    "The example below demonstrates how to extract values from or \"unpack\" a tuple. \n",
    "\n",
    "**NOTE:** The number of variables on the left should be the same as the number of elements in the tuple."
   ]
  },
  {
   "cell_type": "code",
   "execution_count": 7,
   "metadata": {},
   "outputs": [
    {
     "data": {
      "text/plain": [
       "('apple', 'banana', 'orange')"
      ]
     },
     "execution_count": 7,
     "metadata": {},
     "output_type": "execute_result"
    }
   ],
   "source": [
    "'''Validating the tuple `new_tuple`'''\n",
    "\n",
    "new_tuple"
   ]
  },
  {
   "cell_type": "code",
   "execution_count": 8,
   "metadata": {},
   "outputs": [
    {
     "name": "stdout",
     "output_type": "stream",
     "text": [
      "apple\n",
      "banana\n",
      "orange\n"
     ]
    }
   ],
   "source": [
    "'''Need to define three variables to unpack a tuple'''\n",
    "\n",
    "x, y, z = new_tuple\n",
    "print(x)\n",
    "print(y)\n",
    "print(z)"
   ]
  },
  {
   "cell_type": "code",
   "execution_count": 9,
   "metadata": {},
   "outputs": [
    {
     "ename": "ValueError",
     "evalue": "not enough values to unpack (expected 4, got 3)",
     "output_type": "error",
     "traceback": [
      "\u001b[0;31m---------------------------------------------------------------------------\u001b[0m",
      "\u001b[0;31mValueError\u001b[0m                                Traceback (most recent call last)",
      "\u001b[0;32m<ipython-input-9-003583785d27>\u001b[0m in \u001b[0;36m<module>\u001b[0;34m()\u001b[0m\n\u001b[1;32m      2\u001b[0m we will get an error:'''\n\u001b[1;32m      3\u001b[0m \u001b[0;34m\u001b[0m\u001b[0m\n\u001b[0;32m----> 4\u001b[0;31m \u001b[0md\u001b[0m\u001b[0;34m,\u001b[0m \u001b[0me\u001b[0m\u001b[0;34m,\u001b[0m \u001b[0mf\u001b[0m\u001b[0;34m,\u001b[0m \u001b[0mg\u001b[0m \u001b[0;34m=\u001b[0m \u001b[0mnew_tuple\u001b[0m\u001b[0;34m\u001b[0m\u001b[0m\n\u001b[0m",
      "\u001b[0;31mValueError\u001b[0m: not enough values to unpack (expected 4, got 3)"
     ]
    }
   ],
   "source": [
    "'''If the number of variables does not equal number of values in the tuple,\n",
    "we will get an error:'''\n",
    "\n",
    "d, e, f, g = new_tuple"
   ]
  },
  {
   "cell_type": "markdown",
   "metadata": {},
   "source": [
    "Quite often, a function returns values as tuples. Technically, a Python function can return only one value, \n",
    "so if we need a function to return several values they can be returned as a tuple.\n",
    "\n",
    "The return expression `return result_1, result_2, result_3` in a function will produce a tuple `(result_1, result_2, result_3)`. "
   ]
  },
  {
   "cell_type": "markdown",
   "metadata": {},
   "source": [
    "## Create tuples with the `zip()` function"
   ]
  },
  {
   "cell_type": "markdown",
   "metadata": {},
   "source": [
    "The `zip()` function is an example of a function that returns tuples. This function pairs up the elements from multiple sequences, starting with the first values, then the second, etc. "
   ]
  },
  {
   "cell_type": "code",
   "execution_count": 10,
   "metadata": {},
   "outputs": [],
   "source": [
    "list_num = [1,2,3,4,5]\n",
    "list_alpha =['a','b','c','d','e']\n",
    "zipped = zip(list_num, list_alpha)"
   ]
  },
  {
   "cell_type": "markdown",
   "metadata": {},
   "source": [
    "Note that in Python 3 the `zip()` function returns a **zip** object which is an iterator:"
   ]
  },
  {
   "cell_type": "code",
   "execution_count": 11,
   "metadata": {},
   "outputs": [
    {
     "data": {
      "text/plain": [
       "zip"
      ]
     },
     "execution_count": 11,
     "metadata": {},
     "output_type": "execute_result"
    }
   ],
   "source": [
    "type(zipped)"
   ]
  },
  {
   "cell_type": "markdown",
   "metadata": {},
   "source": [
    "An **iterator** in Python is a special object type that works as a sequence, and can be looped over using (for example) a `for` statement. An iterator is created when we loop over Python lists, tuples, or dictionaries (will be reviewed in the next section).\n",
    "\n",
    "Let's loop over `zipped`:"
   ]
  },
  {
   "cell_type": "code",
   "execution_count": 12,
   "metadata": {},
   "outputs": [
    {
     "name": "stdout",
     "output_type": "stream",
     "text": [
      "(1, 'a')\n",
      "(2, 'b')\n",
      "(3, 'c')\n",
      "(4, 'd')\n",
      "(5, 'e')\n"
     ]
    }
   ],
   "source": [
    "for i in zipped:\n",
    "    print(i)"
   ]
  },
  {
   "cell_type": "markdown",
   "metadata": {},
   "source": [
    "Let's try to convert the `zipped` object to a list:"
   ]
  },
  {
   "cell_type": "code",
   "execution_count": 13,
   "metadata": {},
   "outputs": [
    {
     "data": {
      "text/plain": [
       "[]"
      ]
     },
     "execution_count": 13,
     "metadata": {},
     "output_type": "execute_result"
    }
   ],
   "source": [
    "zipped_list = list(zipped)\n",
    "zipped_list"
   ]
  },
  {
   "cell_type": "markdown",
   "metadata": {},
   "source": [
    "__NOTE:__ Conversion to a list was unsuccessful in the cell above; `zipped_list` is empty. This is because an iterator can be traversed only once and for this reason it is convenient to convert it to a list first and then operate with the list.   "
   ]
  },
  {
   "cell_type": "code",
   "execution_count": 14,
   "metadata": {},
   "outputs": [
    {
     "data": {
      "text/plain": [
       "[(1, 'a'), (2, 'b'), (3, 'c'), (4, 'd'), (5, 'e')]"
      ]
     },
     "execution_count": 14,
     "metadata": {},
     "output_type": "execute_result"
    }
   ],
   "source": [
    "zip_again = zip(list_num, list_alpha)\n",
    "zipped_list_2 = list(zip_again)\n",
    "zipped_list_2"
   ]
  },
  {
   "cell_type": "markdown",
   "metadata": {},
   "source": [
    "The function `zip()` used with the `*` operator can be used to unzip a list:"
   ]
  },
  {
   "cell_type": "code",
   "execution_count": 15,
   "metadata": {},
   "outputs": [
    {
     "data": {
      "text/plain": [
       "[(1, 2, 3, 4, 5), ('a', 'b', 'c', 'd', 'e')]"
      ]
     },
     "execution_count": 15,
     "metadata": {},
     "output_type": "execute_result"
    }
   ],
   "source": [
    "list(zip(*zipped_list_2))"
   ]
  },
  {
   "cell_type": "code",
   "execution_count": 16,
   "metadata": {},
   "outputs": [],
   "source": [
    "first_list = list(list(zip(*zipped_list_2))[0])\n",
    "second_list = list(list(zip(*zipped_list_2))[1])"
   ]
  },
  {
   "cell_type": "code",
   "execution_count": 17,
   "metadata": {},
   "outputs": [
    {
     "data": {
      "text/plain": [
       "[1, 2, 3, 4, 5]"
      ]
     },
     "execution_count": 17,
     "metadata": {},
     "output_type": "execute_result"
    }
   ],
   "source": [
    "first_list"
   ]
  },
  {
   "cell_type": "code",
   "execution_count": 18,
   "metadata": {},
   "outputs": [
    {
     "data": {
      "text/plain": [
       "['a', 'b', 'c', 'd', 'e']"
      ]
     },
     "execution_count": 18,
     "metadata": {},
     "output_type": "execute_result"
    }
   ],
   "source": [
    "second_list"
   ]
  },
  {
   "cell_type": "markdown",
   "metadata": {},
   "source": [
    "# Dictionaries\n",
    "\n",
    "A dictionary is similar to a list except the indices are not limited to only integers. The dictionary is a set of key-value pairs where the key is the index to its associated value. The general form of a dictionary is:\n",
    "\n",
    "    {key_1: value_1, key_2: value_2, ...}\n",
    "\n",
    "A dictionary can be created by enclosing a sequence of `key: value` pairs in curly brackets.\n",
    "\n",
    "Dictionaries are __mutable__; a dictionary can be built by adding items (key-value pairs) to an empty list. The order of items in a dictionary does not matter, they are not indexed with integers. Instead, keys are used to look up values. \n",
    "\n",
    "__NOTE:__ The operator `in` also works on dictionaries, but it only scans keys, not values."
   ]
  },
  {
   "cell_type": "code",
   "execution_count": 19,
   "metadata": {},
   "outputs": [
    {
     "name": "stdout",
     "output_type": "stream",
     "text": [
      "{'one': 1, 'two': 2}\n"
     ]
    },
    {
     "data": {
      "text/plain": [
       "[1, 2]"
      ]
     },
     "execution_count": 19,
     "metadata": {},
     "output_type": "execute_result"
    }
   ],
   "source": [
    "my_dictionary = {}\n",
    "my_dictionary[\"one\"] = 1\n",
    "my_dictionary['two'] = 2\n",
    "print(my_dictionary)\n",
    "list(my_dictionary.values())"
   ]
  },
  {
   "cell_type": "code",
   "execution_count": 20,
   "metadata": {},
   "outputs": [
    {
     "name": "stdout",
     "output_type": "stream",
     "text": [
      "one\n",
      "two\n",
      "1\n",
      "2\n"
     ]
    }
   ],
   "source": [
    "'''Traversing over dictionary is very similar to that of a list,\n",
    "just this time keys are used not indices.\n",
    "Compare these two loops: the first one prints keys, not values.'''\n",
    "\n",
    "for value in my_dictionary:\n",
    "    print(value)\n",
    "\n",
    "for key in my_dictionary:\n",
    "    print(my_dictionary[key])\n"
   ]
  },
  {
   "cell_type": "markdown",
   "metadata": {},
   "source": [
    "## Dictionary comprehension"
   ]
  },
  {
   "cell_type": "markdown",
   "metadata": {},
   "source": [
    "In the previous section, we learned about list comprehensions. A dictionary comprehension works very similar to a list comprehension, but the end result is a dictionary. The structure of a dictionary comprehension can be described as follows:\n",
    "\n",
    "    {key: value for (key, value) in iterable}\n",
    "\n",
    "Let's see how it works. One of the applications is to take two lists and create a dictionary using dictionary comprehension. \n",
    "\n",
    "**NOTE:** You will find in the documentation that the term *dictionary comprehension* is often shortened to *dict comprehension*. "
   ]
  },
  {
   "cell_type": "code",
   "execution_count": 21,
   "metadata": {},
   "outputs": [
    {
     "data": {
      "text/plain": [
       "{0: 0, 1: 1, 2: 8, 3: 27, 4: 64, 5: 125, 6: 216, 7: 343, 8: 512, 9: 729}"
      ]
     },
     "execution_count": 21,
     "metadata": {},
     "output_type": "execute_result"
    }
   ],
   "source": [
    "'''Create a dictionary where the key is an integer from 0 to 9\n",
    "and the value is the same integer to the power of three.''' \n",
    "\n",
    "{x: x**3 for x in range(10)}"
   ]
  },
  {
   "cell_type": "code",
   "execution_count": 22,
   "metadata": {},
   "outputs": [
    {
     "data": {
      "text/plain": [
       "{'a': 0,\n",
       " 'b': 1,\n",
       " 'c': 8,\n",
       " 'd': 27,\n",
       " 'e': 64,\n",
       " 'f': 125,\n",
       " 'g': 216,\n",
       " 'h': 343,\n",
       " 'i': 512,\n",
       " 'j': 729}"
      ]
     },
     "execution_count": 22,
     "metadata": {},
     "output_type": "execute_result"
    }
   ],
   "source": [
    "'''Creating a dictionary where the key is a letter of the alphabet:'''\n",
    "\n",
    "import string\n",
    "{x: y**3 for (x, y) in zip(string.ascii_lowercase, range(10))}"
   ]
  },
  {
   "cell_type": "markdown",
   "metadata": {},
   "source": [
    "The expression `zip(string.ascii_lowercase, range(10))` creates a list of tuples where the first element in each pair is a lowercase letter of an English alphabet, and the second element is an integer from 0 to 9:"
   ]
  },
  {
   "cell_type": "code",
   "execution_count": 23,
   "metadata": {},
   "outputs": [
    {
     "data": {
      "text/plain": [
       "[('a', 0),\n",
       " ('b', 1),\n",
       " ('c', 2),\n",
       " ('d', 3),\n",
       " ('e', 4),\n",
       " ('f', 5),\n",
       " ('g', 6),\n",
       " ('h', 7),\n",
       " ('i', 8),\n",
       " ('j', 9)]"
      ]
     },
     "execution_count": 23,
     "metadata": {},
     "output_type": "execute_result"
    }
   ],
   "source": [
    "list(zip(string.ascii_lowercase, range(10)))"
   ]
  },
  {
   "cell_type": "markdown",
   "metadata": {},
   "source": [
    "**NOTE:** For details on the `string` package, please refer to the Python documentation: [Common string operations](https://docs.python.org/3/library/string.html) (Python Software Foundation, 2018)."
   ]
  },
  {
   "cell_type": "markdown",
   "metadata": {},
   "source": [
    "## EXERCISE 4: Word count\n",
    "\n",
    "Imagine that you are given a long sentence and need to count how many times each word appears in the sentence.    \n",
    "\n",
    "1). First, split the sentence into a list of words. We will use a sentence consisting of 251 words from \"Barnaby Rudge\", by Charles Dickens."
   ]
  },
  {
   "cell_type": "code",
   "execution_count": 1,
   "metadata": {},
   "outputs": [],
   "source": [
    "long_sentence = \"\"\"To none of these interrogatories, whereof every one was more pathetically delivered than\n",
    "the last, did Mrs Varden answer one word: but Miggs,\n",
    "not at all abashed by this circumstance,\n",
    "turned to the small boy in attendance—her eldest nephew—son of her own married sister—born in Golden Lion Court,\n",
    "number twenty-sivin,\n",
    "and bred in the very shadow of the second bell-handle on the right- hand door-post—and with a plentiful use\n",
    "of her pocket- handkerchief, addressed herself to him: requesting that on his return home he would console\n",
    "his parents for the loss of her, his aunt, by delivering to them a faithful statement of his having left\n",
    "her in the bosom of that family, with which, as his aforesaid parents well knew, her best affections were\n",
    "incorporated; that he would remind them that nothing less than her imperious sense of duty,\n",
    "and devoted attachment to her old master and missis, likewise Miss Dolly and young Mr Joe,\n",
    "should ever have induced her to decline that pressing invitation which they, his parents, had,\n",
    "as he could testify, given her, to lodge and board with them, free of all cost and charge, for evermore;\n",
    "lastly, that he would help her with her box upstairs, and then repair straight home,\n",
    "bearing her blessing and her strong injunctions to mingle in his prayers a supplication\n",
    "that he might in course of time grow up a locksmith, or a Mr Joe, and have Mrs Vardens\n",
    "and Miss Dollys for his relations and friends.\"\"\""
   ]
  },
  {
   "cell_type": "code",
   "execution_count": 2,
   "metadata": {},
   "outputs": [
    {
     "name": "stdout",
     "output_type": "stream",
     "text": [
      "The number of words in the sentence is: 247\n"
     ]
    }
   ],
   "source": [
    "# Splitting the sentence into words\n",
    "words = long_sentence.split()\n",
    "\n",
    "# Counting the number of words\n",
    "word_count = len(words)\n",
    "print(\"The number of words in the sentence is:\", word_count)"
   ]
  },
  {
   "cell_type": "markdown",
   "metadata": {},
   "source": [
    "2). Create a dictionary from that list where keys are unique words (e.g. if \"the\" appears in the sentence 3 times, there will only be one key for \"the\") from the list, and the values are its occurrence number."
   ]
  },
  {
   "cell_type": "code",
   "execution_count": 3,
   "metadata": {},
   "outputs": [
    {
     "name": "stdout",
     "output_type": "stream",
     "text": [
      "{'To': 1, 'none': 1, 'of': 10, 'these': 1, 'interrogatories,': 1, 'whereof': 1, 'every': 1, 'one': 2, 'was': 1, 'more': 1, 'pathetically': 1, 'delivered': 1, 'than': 2, 'the': 7, 'last,': 1, 'did': 1, 'Mrs': 2, 'Varden': 1, 'answer': 1, 'word:': 1, 'but': 1, 'Miggs,': 1, 'not': 1, 'at': 1, 'all': 2, 'abashed': 1, 'by': 2, 'this': 1, 'circumstance,': 1, 'turned': 1, 'to': 7, 'small': 1, 'boy': 1, 'in': 6, 'attendance—her': 1, 'eldest': 1, 'nephew—son': 1, 'her': 11, 'own': 1, 'married': 1, 'sister—born': 1, 'Golden': 1, 'Lion': 1, 'Court,': 1, 'number': 1, 'twenty-sivin,': 1, 'and': 11, 'bred': 1, 'very': 1, 'shadow': 1, 'second': 1, 'bell-handle': 1, 'on': 2, 'right-': 1, 'hand': 1, 'door-post—and': 1, 'with': 4, 'a': 5, 'plentiful': 1, 'use': 1, 'pocket-': 1, 'handkerchief,': 1, 'addressed': 1, 'herself': 1, 'him:': 1, 'requesting': 1, 'that': 7, 'his': 8, 'return': 1, 'home': 1, 'he': 5, 'would': 3, 'console': 1, 'parents': 2, 'for': 3, 'loss': 1, 'her,': 2, 'aunt,': 1, 'delivering': 1, 'them': 2, 'faithful': 1, 'statement': 1, 'having': 1, 'left': 1, 'bosom': 1, 'family,': 1, 'which,': 1, 'as': 2, 'aforesaid': 1, 'well': 1, 'knew,': 1, 'best': 1, 'affections': 1, 'were': 1, 'incorporated;': 1, 'remind': 1, 'nothing': 1, 'less': 1, 'imperious': 1, 'sense': 1, 'duty,': 1, 'devoted': 1, 'attachment': 1, 'old': 1, 'master': 1, 'missis,': 1, 'likewise': 1, 'Miss': 2, 'Dolly': 1, 'young': 1, 'Mr': 2, 'Joe,': 2, 'should': 1, 'ever': 1, 'have': 2, 'induced': 1, 'decline': 1, 'pressing': 1, 'invitation': 1, 'which': 1, 'they,': 1, 'parents,': 1, 'had,': 1, 'could': 1, 'testify,': 1, 'given': 1, 'lodge': 1, 'board': 1, 'them,': 1, 'free': 1, 'cost': 1, 'charge,': 1, 'evermore;': 1, 'lastly,': 1, 'help': 1, 'box': 1, 'upstairs,': 1, 'then': 1, 'repair': 1, 'straight': 1, 'home,': 1, 'bearing': 1, 'blessing': 1, 'strong': 1, 'injunctions': 1, 'mingle': 1, 'prayers': 1, 'supplication': 1, 'might': 1, 'course': 1, 'time': 1, 'grow': 1, 'up': 1, 'locksmith,': 1, 'or': 1, 'Vardens': 1, 'Dollys': 1, 'relations': 1, 'friends.': 1}\n"
     ]
    }
   ],
   "source": [
    "# Given sentence\n",
    "long_sentence = \"\"\"To none of these interrogatories, whereof every one was more pathetically delivered than\n",
    "the last, did Mrs Varden answer one word: but Miggs,\n",
    "not at all abashed by this circumstance,\n",
    "turned to the small boy in attendance—her eldest nephew—son of her own married sister—born in Golden Lion Court,\n",
    "number twenty-sivin,\n",
    "and bred in the very shadow of the second bell-handle on the right- hand door-post—and with a plentiful use\n",
    "of her pocket- handkerchief, addressed herself to him: requesting that on his return home he would console\n",
    "his parents for the loss of her, his aunt, by delivering to them a faithful statement of his having left\n",
    "her in the bosom of that family, with which, as his aforesaid parents well knew, her best affections were\n",
    "incorporated; that he would remind them that nothing less than her imperious sense of duty,\n",
    "and devoted attachment to her old master and missis, likewise Miss Dolly and young Mr Joe,\n",
    "should ever have induced her to decline that pressing invitation which they, his parents, had,\n",
    "as he could testify, given her, to lodge and board with them, free of all cost and charge, for evermore;\n",
    "lastly, that he would help her with her box upstairs, and then repair straight home,\n",
    "bearing her blessing and her strong injunctions to mingle in his prayers a supplication\n",
    "that he might in course of time grow up a locksmith, or a Mr Joe, and have Mrs Vardens\n",
    "and Miss Dollys for his relations and friends.\"\"\"\n",
    "\n",
    "# Splitting the sentence into words\n",
    "words = long_sentence.split()\n",
    "\n",
    "# Creating a dictionary to count word occurrences\n",
    "word_count_dict = {}\n",
    "for word in words:\n",
    "    if word in word_count_dict:\n",
    "        word_count_dict[word] += 1\n",
    "    else:\n",
    "        word_count_dict[word] = 1\n",
    "\n",
    "print(word_count_dict)\n"
   ]
  },
  {
   "cell_type": "code",
   "execution_count": 4,
   "metadata": {},
   "outputs": [
    {
     "data": {
      "text/plain": [
       "['To',\n",
       " 'none',\n",
       " 'of',\n",
       " 'these',\n",
       " 'interrogatories,',\n",
       " 'whereof',\n",
       " 'every',\n",
       " 'one',\n",
       " 'was',\n",
       " 'more',\n",
       " 'pathetically',\n",
       " 'delivered',\n",
       " 'than\\nthe',\n",
       " 'last,',\n",
       " 'did',\n",
       " 'Mrs',\n",
       " 'Varden',\n",
       " 'answer',\n",
       " 'one',\n",
       " 'word:',\n",
       " 'but',\n",
       " 'Miggs,\\nnot',\n",
       " 'at',\n",
       " 'all',\n",
       " 'abashed',\n",
       " 'by',\n",
       " 'this',\n",
       " 'circumstance,\\nturned',\n",
       " 'to',\n",
       " 'the',\n",
       " 'small',\n",
       " 'boy',\n",
       " 'in',\n",
       " 'attendance—her',\n",
       " 'eldest',\n",
       " 'nephew—son',\n",
       " 'of',\n",
       " 'her',\n",
       " 'own',\n",
       " 'married',\n",
       " 'sister—born',\n",
       " 'in',\n",
       " 'Golden',\n",
       " 'Lion',\n",
       " 'Court,\\nnumber',\n",
       " 'twenty-sivin,\\nand',\n",
       " 'bred',\n",
       " 'in',\n",
       " 'the',\n",
       " 'very',\n",
       " 'shadow',\n",
       " 'of',\n",
       " 'the',\n",
       " 'second',\n",
       " 'bell-handle',\n",
       " 'on',\n",
       " 'the',\n",
       " 'right-',\n",
       " 'hand',\n",
       " 'door-post—and',\n",
       " 'with',\n",
       " 'a',\n",
       " 'plentiful',\n",
       " 'use\\nof',\n",
       " 'her',\n",
       " 'pocket-',\n",
       " 'handkerchief,',\n",
       " 'addressed',\n",
       " 'herself',\n",
       " 'to',\n",
       " 'him:',\n",
       " 'requesting',\n",
       " 'that',\n",
       " 'on',\n",
       " 'his',\n",
       " 'return',\n",
       " 'home',\n",
       " 'he',\n",
       " 'would',\n",
       " 'console\\nhis',\n",
       " 'parents',\n",
       " 'for',\n",
       " 'the',\n",
       " 'loss',\n",
       " 'of',\n",
       " 'her,',\n",
       " 'his',\n",
       " 'aunt,',\n",
       " 'by',\n",
       " 'delivering',\n",
       " 'to',\n",
       " 'them',\n",
       " 'a',\n",
       " 'faithful',\n",
       " 'statement',\n",
       " 'of',\n",
       " 'his',\n",
       " 'having',\n",
       " 'left\\nher',\n",
       " 'in',\n",
       " 'the',\n",
       " 'bosom',\n",
       " 'of',\n",
       " 'that',\n",
       " 'family,',\n",
       " 'with',\n",
       " 'which,',\n",
       " 'as',\n",
       " 'his',\n",
       " 'aforesaid',\n",
       " 'parents',\n",
       " 'well',\n",
       " 'knew,',\n",
       " 'her',\n",
       " 'best',\n",
       " 'affections',\n",
       " 'were\\nincorporated;',\n",
       " 'that',\n",
       " 'he',\n",
       " 'would',\n",
       " 'remind',\n",
       " 'them',\n",
       " 'that',\n",
       " 'nothing',\n",
       " 'less',\n",
       " 'than',\n",
       " 'her',\n",
       " 'imperious',\n",
       " 'sense',\n",
       " 'of',\n",
       " 'duty,\\nand',\n",
       " 'devoted',\n",
       " 'attachment',\n",
       " 'to',\n",
       " 'her',\n",
       " 'old',\n",
       " 'master',\n",
       " 'and',\n",
       " 'missis,',\n",
       " 'likewise',\n",
       " 'Miss',\n",
       " 'Dolly',\n",
       " 'and',\n",
       " 'young',\n",
       " 'Mr',\n",
       " 'Joe,\\nshould',\n",
       " 'ever',\n",
       " 'have',\n",
       " 'induced',\n",
       " 'her',\n",
       " 'to',\n",
       " 'decline',\n",
       " 'that',\n",
       " 'pressing',\n",
       " 'invitation',\n",
       " 'which',\n",
       " 'they,',\n",
       " 'his',\n",
       " 'parents,',\n",
       " 'had,\\nas',\n",
       " 'he',\n",
       " 'could',\n",
       " 'testify,',\n",
       " 'given',\n",
       " 'her,',\n",
       " 'to',\n",
       " 'lodge',\n",
       " 'and',\n",
       " 'board',\n",
       " 'with',\n",
       " 'them,',\n",
       " 'free',\n",
       " 'of',\n",
       " 'all',\n",
       " 'cost',\n",
       " 'and',\n",
       " 'charge,',\n",
       " 'for',\n",
       " 'evermore;\\nlastly,',\n",
       " 'that',\n",
       " 'he',\n",
       " 'would',\n",
       " 'help',\n",
       " 'her',\n",
       " 'with',\n",
       " 'her',\n",
       " 'box',\n",
       " 'upstairs,',\n",
       " 'and',\n",
       " 'then',\n",
       " 'repair',\n",
       " 'straight',\n",
       " 'home,\\nbearing',\n",
       " 'her',\n",
       " 'blessing',\n",
       " 'and',\n",
       " 'her',\n",
       " 'strong',\n",
       " 'injunctions',\n",
       " 'to',\n",
       " 'mingle',\n",
       " 'in',\n",
       " 'his',\n",
       " 'prayers',\n",
       " 'a',\n",
       " 'supplication\\nthat',\n",
       " 'he',\n",
       " 'might',\n",
       " 'in',\n",
       " 'course',\n",
       " 'of',\n",
       " 'time',\n",
       " 'grow',\n",
       " 'up',\n",
       " 'a',\n",
       " 'locksmith,',\n",
       " 'or',\n",
       " 'a',\n",
       " 'Mr',\n",
       " 'Joe,',\n",
       " 'and',\n",
       " 'have',\n",
       " 'Mrs',\n",
       " 'Vardens\\nand',\n",
       " 'Miss',\n",
       " 'Dollys',\n",
       " 'for',\n",
       " 'his',\n",
       " 'relations',\n",
       " 'and',\n",
       " 'friends.']"
      ]
     },
     "execution_count": 4,
     "metadata": {},
     "output_type": "execute_result"
    }
   ],
   "source": [
    "'''Exercise 4 solution:'''\n",
    "\n",
    "'''1). The method 'split()' can be used here.\n",
    "Any delimiter can be passed as the first argument to split\n",
    "the string 'long_sentence':'''\n",
    "\n",
    "'''Note: if sep is not specified, any whitespace string is a separator by default.''' \n",
    "\n",
    "list_of_words = long_sentence.split(sep=' ')\n",
    "list_of_words"
   ]
  },
  {
   "cell_type": "code",
   "execution_count": 5,
   "metadata": {},
   "outputs": [],
   "source": [
    "'''2). Create the empty dictionary:'''\n",
    "\n",
    "word_count_dictionary = {}\n",
    "\n",
    "'''This dictionary will have all unique words from the list as keys\n",
    "and the word occurrence number as values.\n",
    "If the word is not in the dictionary we add new key and value is 1,\n",
    "for existing keys the value is incremented by 1.''' \n",
    "\n",
    "for w in list_of_words:\n",
    "    if w not in word_count_dictionary:\n",
    "        word_count_dictionary[w] = 1\n",
    "    else:\n",
    "        word_count_dictionary[w] += 1"
   ]
  },
  {
   "cell_type": "markdown",
   "metadata": {},
   "source": [
    "# Reading Data from a File\n",
    "\n",
    "Often, we need to read data from a file. The file may contain simple text, an Excel spreadsheet, an XML document, or be in any other format. Python offers multiple tools for file reading.\n",
    "\n",
    "The simplest way is to use the built-in function __`open()`__. This function opens a file and returns a file object; it gives a _file handle_. The file handle is not the actual data contained in the file, but instead it can be used to read the data. Typing `?open` in a command line will return a docstring about this function.\n",
    "\n",
    "## Open and read a text file\n",
    "\n",
    "The general syntax of the `open()` function is:\n",
    "\n",
    "    open(name[, mode[, buffering]]) -> file object\n",
    "\n",
    "This shows that the first argument is the path to a file (if the file is in the same directory only the filename needs to be provided; if not, the path to the file must be provided). The second argument states the mode. Here are the most used modes: \n",
    "\n",
    "* 'r' - to open for reading,\n",
    "* 'w' - to open for writing (old data is erased),\n",
    "* 'a' - to open for appending to what is already in the file,\n",
    "* 'r+' - read and write mode\n",
    "\n",
    "A text file is a sequence of lines. A special character called the __newline__ character represents the end of each line. In Python, `\\n` represents a new line. __NOTE:__ `\\n` is actually one character even though it looks like two.\n",
    "\n",
    "There are four different methods to read from a file: `read(), readlines(), readline()` and `for` loop over the file_object:\n",
    " * `read()` can be used to read the whole file at once and use it as a single string (not recommended for big files)\n",
    " * `readlines()` returns the content of a file as a list of strings; each line can be accessed by index\n",
    " * `readline()` can be used to read only a part of file; the first call returns the first line, the second call returns the second line and so on. This function can be used inside a `while` loop to read the file line-by-line until a certain place reached.\n",
    " * `for line in file_object: <...>` allows for processing of every line in a file, one at a time:\n",
    "       \n",
    "       file_object = open('example_file_for_reading.txt', 'r')\n",
    "       for line in file_object:\n",
    "           print(line)\n",
    "        \n",
    "Also, the `file_object` can be converted to a list using the `list()` constructor, i.e. `list(file_object)`. This will return a result similar to the `readlines()` method.\n",
    "\n",
    "__NOTE:__ When you are done working with the file, it's important to close it.  If you don't, the actual file may end up empty, incomplete or corrupted. Once the method `close()` is called, subsequent method calls on that file object will not work:\n",
    "\n",
    "    file_object.close()\n",
    "    file_obj.read()\n",
    "    % ValueError: I/O operation on closed file"
   ]
  },
  {
   "cell_type": "markdown",
   "metadata": {},
   "source": [
    "## Writing to a file"
   ]
  },
  {
   "cell_type": "markdown",
   "metadata": {},
   "source": [
    "The `write()` method in Python works like the `print()` function but it does not add a newline character `'\\n'`. Again, open the file first:\n",
    "\n",
    "    file_object = open('file_to_write_to.txt', 'w')\n",
    "    file_object.write(('text goes here\\n')\n",
    "    file_object.close()"
   ]
  },
  {
   "cell_type": "code",
   "execution_count": 9,
   "metadata": {},
   "outputs": [],
   "source": [
    "two_rows_string = \"This is the first line,\\nand this is the second line.\""
   ]
  },
  {
   "cell_type": "code",
   "execution_count": 10,
   "metadata": {},
   "outputs": [
    {
     "data": {
      "text/plain": [
       "'This is the first line,\\nand this is the second line.'"
      ]
     },
     "execution_count": 10,
     "metadata": {},
     "output_type": "execute_result"
    }
   ],
   "source": [
    "two_rows_string"
   ]
  },
  {
   "cell_type": "code",
   "execution_count": 11,
   "metadata": {},
   "outputs": [
    {
     "name": "stdout",
     "output_type": "stream",
     "text": [
      "This is the first line,\n",
      "and this is the second line.\n"
     ]
    }
   ],
   "source": [
    "print(two_rows_string)"
   ]
  },
  {
   "cell_type": "code",
   "execution_count": 28,
   "metadata": {},
   "outputs": [],
   "source": [
    "file_object = open('file_to_write_to.txt', 'w')\n",
    "file_object.write(two_rows_string + '\\n')\n",
    "file_object.close()"
   ]
  },
  {
   "cell_type": "code",
   "execution_count": 29,
   "metadata": {},
   "outputs": [],
   "source": [
    "file_object = open('file_to_write_to.txt', 'a')\n",
    "file_object.write('Oh, one more thing\\n')\n",
    "file_object.close()"
   ]
  },
  {
   "cell_type": "markdown",
   "metadata": {},
   "source": [
    "# Formatting Print Output"
   ]
  },
  {
   "cell_type": "markdown",
   "metadata": {},
   "source": [
    "In this short section we will quickly review how to format the output of the `print()` function. Here are a few examples:"
   ]
  },
  {
   "cell_type": "code",
   "execution_count": 30,
   "metadata": {},
   "outputs": [
    {
     "name": "stdout",
     "output_type": "stream",
     "text": [
      "Stella Artois        is the best of them all\n",
      "Stella Artois is the best of them all\n",
      "Stella Artois is the best of them all\n",
      "       Stella Artois is the best of them all\n",
      "&&&&&&&Stella Artois is the best of them all\n"
     ]
    }
   ],
   "source": [
    "'''Formatting strings with format specifiers'''\n",
    "\n",
    "'''Pad with spaces if < 10 chars long'''\n",
    "print(\"{0:20} is the best of them all\".format(\"Stella Artois\"))\n",
    "\n",
    "'''Take the width from the second parameter'''\n",
    "print(\"{0:{1}} is the best of them all\".format(\"Stella Artois\", 10))\n",
    "\n",
    "'''Take named arguments'''\n",
    "print(\"{beer:{width}} is the best of them all\".format(beer=\"Stella Artois\", width=10))\n",
    "\n",
    "'''Force right justification'''\n",
    "print(\"{0:>20} is the best of them all\".format(\"Stella Artois\"))\n",
    "\n",
    "'''Force right justification and pad with &'''\n",
    "print(\"{0:&>20} is the best of them all\".format(\"Stella Artois\"))"
   ]
  },
  {
   "cell_type": "code",
   "execution_count": 31,
   "metadata": {},
   "outputs": [
    {
     "name": "stdout",
     "output_type": "stream",
     "text": [
      "Mary and Jane went up the hill\n"
     ]
    }
   ],
   "source": [
    "'''String interpolation'''\n",
    "personA = \"Mary\"\n",
    "personB = \"Jane\"\n",
    "print(\"%s and %s went up the hill\" % (personA, personB))"
   ]
  },
  {
   "cell_type": "markdown",
   "metadata": {
    "collapsed": true
   },
   "source": [
    "# References\n",
    "\n",
    "Python Software Foundation (2018). https://docs.python.org/3/library/string.html"
   ]
  }
 ],
 "metadata": {
  "kernelspec": {
   "display_name": "Python 3 (ipykernel)",
   "language": "python",
   "name": "python3"
  },
  "language_info": {
   "codemirror_mode": {
    "name": "ipython",
    "version": 3
   },
   "file_extension": ".py",
   "mimetype": "text/x-python",
   "name": "python",
   "nbconvert_exporter": "python",
   "pygments_lexer": "ipython3",
   "version": "3.11.4"
  },
  "toc": {
   "base_numbering": 1,
   "nav_menu": {},
   "number_sections": false,
   "sideBar": true,
   "skip_h1_title": false,
   "title_cell": "Table of Contents",
   "title_sidebar": "Contents",
   "toc_cell": false,
   "toc_position": {},
   "toc_section_display": true,
   "toc_window_display": false
  }
 },
 "nbformat": 4,
 "nbformat_minor": 2
}
