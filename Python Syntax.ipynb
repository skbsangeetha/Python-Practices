{
 "cells": [
  {
   "cell_type": "markdown",
   "metadata": {},
   "source": [
    "# Part 1: Introduction to Python"
   ]
  },
  {
   "cell_type": "markdown",
   "metadata": {},
   "source": [
    "# Introduction"
   ]
  },
  {
   "cell_type": "markdown",
   "metadata": {},
   "source": [
    "# Learning Outcomes"
   ]
  },
  {
   "cell_type": "markdown",
   "metadata": {},
   "source": [
    "In this module, you will learn and practice:\n",
    "- Basic Python syntax\n",
    "- Main data types in Python\n",
    "- Variables and expressions\n",
    "- Python modules and built-in functions\n",
    "- How to design function in Python\n",
    "- Python strings, lists, tuples and dictionaries\n",
    "- How to work with files in Python"
   ]
  },
  {
   "cell_type": "markdown",
   "metadata": {},
   "source": [
    "# Readings and Resources"
   ]
  },
  {
   "cell_type": "markdown",
   "metadata": {},
   "source": [
    "The majority of the notebook content draws from the recommended readings. We invite you to further supplement this notebook with the following texts:\n",
    "\n",
    "1. Downey, A. (2015). *Think Python. How to Think Like a Computer Scientist*. O'Reilly Media.\n",
    "<blockquote>\n",
    "    <b>NOTE:</b> This book is also available online as a Free Book from Green Tea Press and can be retrieved from http://greenteapress.com/wp/think-python-2e/.\n",
    "Green Tea Press.\n",
    "</blockquote>\n",
    "\n",
    "\n",
    "2. McKinney, W. (2017). *Python for Data Analysis: Data Wrangling with Pandas, NumPy, and IPython* (2nd edition). O'Reilly Media.\n",
    "\n",
    "\n",
    "3. VanderPlas, Jake (2016). *Python Data Science Handbook. Essential Tools for Working with Data*. O'Reilly Media.\n",
    "<blockquote>\n",
    "    <b>NOTE:</b> This books is also available online on author's GitHub page and can be retrieved from https://jakevdp.github.io/PythonDataScienceHandbook/.\n",
    "</blockquote>"
   ]
  },
  {
   "cell_type": "markdown",
   "metadata": {},
   "source": [
    "<h1>Table of Contents<span class=\"tocSkip\"></span></h1>\n",
    "<br>\n",
    "<div class=\"toc\">\n",
    "<ul class=\"toc-item\">\n",
    "<li><span><a href=\"#Introduction-to-Python\" data-toc-modified-id=\"Introduction-to-Python\">Introduction to Python</a></span>\n",
    "</li>\n",
    "<li><span><a href=\"#Introduction\" data-toc-modified-id=\"Introduction\">Introduction</a></span>\n",
    "</li>\n",
    "<li><span><a href=\"#Learning-Outcomes\" data-toc-modified-id=\"Learning-Outcomes\">Learning Outcomes</a></span>\n",
    "</li>\n",
    "<li><span><a href=\"#Readings-and-Resources\" data-toc-modified-id=\"Readings-and-Resources\">Readings and Resources</a></span>\n",
    "</li>\n",
    "<li><span><a href=\"#Table-of-Contents\" data-toc-modified-id=\"Table-of-Contents\">Table of Contents</a></span>\n",
    "</li>\n",
    "<li><span><a href=\"#Defining-a-Problem-and-Preparing-the-Data\" data-toc-modified-id=\"Defining-a-Problem-and-Preparing-the-Data\">Defining a Problem and Preparing the Data</a></span>\n",
    "<ul class=\"toc-item\">\n",
    "<li><span><a href=\"#Defining-a-Problem\" data-toc-modified-id=\"Defining-a-Problem\">Defining a Problem</a></span>\n",
    "</li>\n",
    "<li><span><a href=\"#Preparing-the-Data\" data-toc-modified-id=\"Preparing-the-Data\">Preparing the Data</a></span>\n",
    "</li>\n",
    "</ul>\n",
    "</li>\n",
    "<li><span><a href=\"#Why-Python?\" data-toc-modified-id=\"Why-Python?\">Why Python?</a></span>\n",
    "</li>\n",
    "<li><span><a href=\"#Data-types,-variables-and-assignments\" data-toc-modified-id=\"Data-types,-variables-and-assignments\">Data types, variables and assignments</a></span>\n",
    "<ul class=\"toc-item\">\n",
    "<li><span><a href=\"#Statements-and-expressions\" data-toc-modified-id=\"Statements-and-expressions\">Statements and expressions</a></span>\n",
    "</li>\n",
    "<li><span><a href=\"#Type-conversion\" data-toc-modified-id=\"Type-conversion\">Type conversion</a></span>\n",
    "</li>\n",
    "</ul>\n",
    "</li>\n",
    "<li><span><a href=\"#Functions\" data-toc-modified-id=\"Functions\">Functions</a></span>\n",
    "</li>\n",
    "<li><span><a href=\"#Conditionals\" data-toc-modified-id=\"Conditionals\">Conditionals</a></span>\n",
    "<ul class=\"toc-item\">\n",
    "<li><span><a href=\"#Conditional-execution\" data-toc-modified-id=\"Conditional-execution\">Conditional execution</a></span>\n",
    "</li>\n",
    "<li><span><a href=\"#Chained-conditionals\" data-toc-modified-id=\"Chained-conditionals\">Chained conditionals</a></span>\n",
    "</li>\n",
    "<li><span><a href=\"#Nested-conditionals\" data-toc-modified-id=\"Nested-conditionals\">Nested conditionals</a></span>\n",
    "</li>\n",
    "</ul>\n",
    "</li>\n",
    "<li><span><a href=\"#Iteration\" data-toc-modified-id=\"Iteration\">Iteration</a></span>\n",
    "<ul class=\"toc-item\">\n",
    "<li><span><a href=\"#while-statement\" data-toc-modified-id=\"while-statement\">while statement</a></span>\n",
    "</li>\n",
    "<li><span><a href=\"#Infinite-loops\" data-toc-modified-id=\"Infinite-loops\">Infinite loops</a></span>\n",
    "</li>\n",
    "<li><span><a href=\"#Recursion\" data-toc-modified-id=\"Recursion\">Recursion</a></span>\n",
    "</li>\n",
    "<li><span><a href=\"#EXERCISE-1:-Fibonacci-Sequence\" data-toc-modified-id=\"EXERCISE-1:-Fibonacci-Sequence\">EXERCISE 1: Fibonacci Sequence</a></span>\n",
    "</li>\n",
    "</ul>\n",
    "</li>\n",
    "<li><span><a href=\"#References\" data-toc-modified-id=\"References\">References</a></span>\n",
    "</li>\n",
    "</ul>\n",
    "</div>"
   ]
  },
  {
   "cell_type": "markdown",
   "metadata": {},
   "source": [
    "# Defining a Problem and Preparing the Data "
   ]
  },
  {
   "cell_type": "markdown",
   "metadata": {},
   "source": [
    "\n",
    "Models are used in a variety of industries to understand business problems and predict potential outcomes. This allows organizations to make data-driven recommendations and decisions. As we saw in the last module, the first step to building a predictive model is to define the problem we are trying to solve. This will aid us in selecting and preparing data for our model.\n",
    "\n",
    "## Defining a Problem\n",
    "\n",
    "Projects often fail when a problem has not been clearly defined. As a data scientist, you will often help a line of business validate and solve a problem &mdash; so it is critical for all stakeholders to be the same page about what the problem is and its potential causes.\n",
    "\n",
    "When defining the problem, consider some of the following business questions: \n",
    "\n",
    "1. **What is the outcome you're trying to understand?** e.g.\n",
    "\n",
    " - Low revenue\n",
    " - High expenses\n",
    " - Lack of customer response to a product\n",
    " - High production error rate\n",
    " \n",
    "\n",
    "2. **What are the inputs that may lead to the outcome?** e.g.\n",
    "\n",
    " - Customer profiles\n",
    " - Store locations\n",
    " - Raw materials\n",
    " \n",
    "\n",
    "3. **Which parties are involved?** e.g.\n",
    "\n",
    " - Front-line employees\n",
    " - Customers\n",
    " \n",
    "\n",
    "4. **What is the time frame of the problem?** e.g.\n",
    "\n",
    " - Over the past year\n",
    " - Since product inception\n",
    " \n",
    "\n",
    "Having a clear problem statement will help you build hypothesis to inform your models. You can use the SMART method to build your problem statement. SMART stands for: \n",
    "1. Specific, \n",
    "2. Measurable,\n",
    "3. Action-oriented,\n",
    "4. Relevant,\n",
    "5. and Time-bound.\n",
    "\n",
    "Here is an example problem statement following the SMART method:\n",
    "\n",
    "<blockquote>\"Credit card sales in Ontario, our largest division, have decreased 35% since January, despite employing traditional sales tactics at the branch. We need to understand which customer-driven attributes are leading to the sale decline so we can adjust our product, marketing and sales strategy.\"</blockquote>\n",
    "\n",
    "As you can see, the problem statement is Specific (about credit card sales in Ontario), Measurable (decrease of 35%), Action-oriented (understanding the drivers will help us re-evaluate our strategy), Relevant (this is our largest business), and Time-bound (this has been happening since January).\n",
    "\n",
    "You can use analytics to determine the root causes leading to your problem. Once you have an understanding of the drivers which cause the problem, you can use predictive modeling techniques to assess how a change in strategy will influence an outcome.\n",
    "\n",
    "When the problem has been defined, you can select which data points are relevant to your analysis. For example, if trying to understand a customer base, you may choose to look at information such as age, purchase behavior, product selections, city of residence, and method of purchase.\n",
    "\n",
    "## Preparing the Data\n",
    "\n",
    "The first step of data preparation is exploration. The purpose of this is to understand what data is available from which sources and whether or not this data can help you in solving your problem.\n",
    "\n",
    "In this course, we will be using the programming language Python for our data analysis and model development. Before working with real data, in the following sections you will learn the language structure and basic syntax for common functions. This will help you apply the appropriate functions depending on different data types, for example numeric vs. alphanumeric data. In part 3 of this module, you will also learn to read and write data to and from a file. This is an important phase of model development, as it will help you identify potential data inefficiencies early in your journey."
   ]
  },
  {
   "cell_type": "markdown",
   "metadata": {},
   "source": [
    "# Why Python?"
   ]
  },
  {
   "cell_type": "markdown",
   "metadata": {},
   "source": [
    "Python is one of the most widely used programming languages and is very popular among data scientists. It is generally considered a first choice for social media data mining. It is widely used in the analysis of sociological data and its use in the financial industry has been increasing rapidly since 2005. \n",
    "\n",
    "Increases in Python usage were led largely by maturation of analytics libraries, such as NumPy and Pandas to allow working with DataFrames, SciPy, and Scikit-learn to provide statistics and machine learning algorithms.\n",
    "\n",
    "Python is well-suited as an interactive analysis environment. It can also enable the development of robust systems in a fraction of the time it would have taken in Java or C++. It supports a mixture of procedural, object-oriented, functional, and imperative styles. Python has a reputation for being relatively easy to learn."
   ]
  },
  {
   "cell_type": "markdown",
   "metadata": {},
   "source": [
    "# Data types, variables and assignments"
   ]
  },
  {
   "cell_type": "markdown",
   "metadata": {},
   "source": [
    "Python is an interpreted programming language. There are two ways to use the interpreter: __interactive__ and __script__ modes.     \n",
    "In interactive mode, we can type a line of Python code and the interpretor processes it immediately and displays the result."
   ]
  },
  {
   "cell_type": "code",
   "execution_count": 1,
   "metadata": {},
   "outputs": [
    {
     "data": {
      "text/plain": [
       "3"
      ]
     },
     "execution_count": 1,
     "metadata": {},
     "output_type": "execute_result"
    }
   ],
   "source": [
    "1 + 2"
   ]
  },
  {
   "cell_type": "markdown",
   "metadata": {},
   "source": [
    "Alternatively, the code can be stored in a file, which sometimes is called a script. The content of the file can be executed by the interpreter. By convention, Python scripts have filenames that end with `.py`. One of the benefits of working with an interpreted language is that you can test bits of code in interactive mode before it is put in a script.\n",
    "\n",
    "In the code, a variable can be created and assigned to a value. In Python, a variable name can be arbitrarily long and can contain both letters and numbers, but must start with a letter. Both uppercase and lowercase letters can be used, but it is often recommended to start with lowercase. The underscore sign can appear in a name and a name may start with underscore. Quite often, the underscore sign is used between words in long names. This style is sometimes referred to as __snake case__. \n",
    "\n",
    "It is important to remember that Python 3 has 35 reserved keywords that cannot be used as variable names. Below is the list of Python 3.6 reserved keywords in their exact spelling (McKinney, 2017):\n",
    "\n",
    "    False      class      finally    is         return\n",
    "    None       continue   for        lambda     try\n",
    "    True       def        from       nonlocal   while\n",
    "    and        del        global     not        with\n",
    "    as         elif       if         or         yield\n",
    "    assert     else       import     pass\n",
    "    break      except     in         raise\n",
    " "
   ]
  },
  {
   "cell_type": "markdown",
   "metadata": {},
   "source": [
    "The main data types in Python are __integer__, __float__, __string__, and __boolean__. For example, \n",
    "- `1`    is an integer\n",
    "- `1.2`  is a float \n",
    "- `\"Hello, world!\"` is a string\n",
    "- `\"1.2\"` is also a string.\n",
    "\n",
    "Any string of characters enclosed in either single or double quotation marks is a value of type `string`.\n",
    "\n",
    "Python is a dynamically-typed language. The type of a variable is set when a value is assigned to it. There is no need to declare a variable's type. Variable assignment to a value is easy and concise. This also allows us to change the type of a variable farther down in the code. The built-in function __type__ returns the type of an object.\n",
    "\n",
    "Below are some examples of assignments."
   ]
  },
  {
   "cell_type": "code",
   "execution_count": 2,
   "metadata": {},
   "outputs": [
    {
     "name": "stdout",
     "output_type": "stream",
     "text": [
      "200.96\n",
      "<class 'float'>\n"
     ]
    }
   ],
   "source": [
    "radius = 8\n",
    "pi_number = 3.14\n",
    "\n",
    "area_of_circle = pi_number * radius**2\n",
    "\n",
    "print(area_of_circle)\n",
    "print(type(area_of_circle))"
   ]
  },
  {
   "cell_type": "code",
   "execution_count": 3,
   "metadata": {},
   "outputs": [
    {
     "name": "stdout",
     "output_type": "stream",
     "text": [
      "Hello, world!\n",
      "<class 'str'>\n"
     ]
    }
   ],
   "source": [
    "my_string = \"Hello, world!\"\n",
    "\n",
    "print(my_string)\n",
    "print(type(my_string))"
   ]
  },
  {
   "cell_type": "code",
   "execution_count": 4,
   "metadata": {},
   "outputs": [
    {
     "name": "stdout",
     "output_type": "stream",
     "text": [
      "True\n",
      "<class 'bool'>\n"
     ]
    }
   ],
   "source": [
    "a = True\n",
    "\n",
    "print(a)\n",
    "print(type(a))"
   ]
  },
  {
   "cell_type": "markdown",
   "metadata": {},
   "source": [
    "In Python, assignment may take more complex form. Below is an example of a __chained__ assignment:"
   ]
  },
  {
   "cell_type": "code",
   "execution_count": 1,
   "metadata": {},
   "outputs": [
    {
     "name": "stdout",
     "output_type": "stream",
     "text": [
      "10\n",
      "10\n",
      "10\n"
     ]
    }
   ],
   "source": [
    "a = b = c = 10\n",
    "\n",
    "print(a)\n",
    "print(b)\n",
    "print(c)"
   ]
  },
  {
   "cell_type": "markdown",
   "metadata": {},
   "source": [
    "Generally, the chained assignment has the form:   \n",
    "\n",
    "`x0 = x1 = ... = xN = value`.\n",
    "\n",
    "Another form of assignment is `y0, y1 = value_1, value_2`. In this case, the variable `y0` is assigned to `value_1` and the variable `y1` is assigned to `value_2`."
   ]
  },
  {
   "cell_type": "code",
   "execution_count": 6,
   "metadata": {},
   "outputs": [
    {
     "name": "stdout",
     "output_type": "stream",
     "text": [
      "10\n",
      "plus\n",
      "20\n"
     ]
    }
   ],
   "source": [
    "x, y, z = 10, 'plus', 20\n",
    "\n",
    "print(x)\n",
    "print(y)\n",
    "print(z)"
   ]
  },
  {
   "cell_type": "markdown",
   "metadata": {},
   "source": [
    "## Statements and expressions"
   ]
  },
  {
   "cell_type": "markdown",
   "metadata": {},
   "source": [
    "A __statement__ is a unit of code that the Python interpreter can execute. For example, an assignment is a statement. An **expression** is a combination of values, variables, and operators. A value all by itself is considered an expression. Technically, an expression is also a statement, but it is probably simpler to think of them as different things. The important difference is that an expression has a value; a statement does not.\n",
    "\n",
    "Python supports the following operators on numbers: addition (`+`), subtraction (`-`), multiplication (`*`), division (`/`). Python also supports integer division (`//`, remainder or modulo (`%`), and exponentiation (`**`)."
   ]
  },
  {
   "cell_type": "code",
   "execution_count": 7,
   "metadata": {},
   "outputs": [
    {
     "data": {
      "text/plain": [
       "11"
      ]
     },
     "execution_count": 7,
     "metadata": {},
     "output_type": "execute_result"
    }
   ],
   "source": [
    "'''Addition:'''\n",
    "\n",
    "4 + 7"
   ]
  },
  {
   "cell_type": "code",
   "execution_count": 8,
   "metadata": {},
   "outputs": [
    {
     "data": {
      "text/plain": [
       "-3"
      ]
     },
     "execution_count": 8,
     "metadata": {},
     "output_type": "execute_result"
    }
   ],
   "source": [
    "'''Subtraction:'''\n",
    "\n",
    "4 - 7"
   ]
  },
  {
   "cell_type": "code",
   "execution_count": 9,
   "metadata": {},
   "outputs": [
    {
     "data": {
      "text/plain": [
       "28"
      ]
     },
     "execution_count": 9,
     "metadata": {},
     "output_type": "execute_result"
    }
   ],
   "source": [
    "'''Multiplication:'''\n",
    "\n",
    "4 * 7"
   ]
  },
  {
   "cell_type": "code",
   "execution_count": 10,
   "metadata": {},
   "outputs": [
    {
     "data": {
      "text/plain": [
       "0.5714285714285714"
      ]
     },
     "execution_count": 10,
     "metadata": {},
     "output_type": "execute_result"
    }
   ],
   "source": [
    "'''Division:'''\n",
    "\n",
    "4 / 7"
   ]
  },
  {
   "cell_type": "code",
   "execution_count": 11,
   "metadata": {},
   "outputs": [
    {
     "data": {
      "text/plain": [
       "0"
      ]
     },
     "execution_count": 11,
     "metadata": {},
     "output_type": "execute_result"
    }
   ],
   "source": [
    "'''Integer division:'''\n",
    "\n",
    "4 // 7"
   ]
  },
  {
   "cell_type": "code",
   "execution_count": 12,
   "metadata": {},
   "outputs": [
    {
     "data": {
      "text/plain": [
       "4"
      ]
     },
     "execution_count": 12,
     "metadata": {},
     "output_type": "execute_result"
    }
   ],
   "source": [
    "'''Modulo - divides 2 numbers and returns the remainder'''\n",
    "\n",
    "4 % 7"
   ]
  },
  {
   "cell_type": "markdown",
   "metadata": {},
   "source": [
    "Below is an example of using the integer division and modulo operators."
   ]
  },
  {
   "cell_type": "code",
   "execution_count": 13,
   "metadata": {},
   "outputs": [
    {
     "name": "stdout",
     "output_type": "stream",
     "text": [
      "The movie runs for 2 hour(s) and 15 minutes\n"
     ]
    }
   ],
   "source": [
    "'''Example: The run time of a movie is 135 minutes.\n",
    "How long the movie runs, in hours and minutes?\n",
    "''' \n",
    "\n",
    "\n",
    "minutes = 135\n",
    "print (\"The movie runs for {} hour(s) and {} minutes\".format(minutes//60, minutes%60))"
   ]
  },
  {
   "cell_type": "code",
   "execution_count": 14,
   "metadata": {},
   "outputs": [
    {
     "data": {
      "text/plain": [
       "16384"
      ]
     },
     "execution_count": 14,
     "metadata": {},
     "output_type": "execute_result"
    }
   ],
   "source": [
    "'''Exponentiation:'''\n",
    "\n",
    "4 ** 7"
   ]
  },
  {
   "cell_type": "markdown",
   "metadata": {},
   "source": [
    "The order precedence for these operators is the same as the order of operations in mathematics: \n",
    "1. Parentheses\n",
    "2. Exponentiation\n",
    "3. Multiplication/Division\n",
    "4. Addition/Subtraction\n",
    "\n",
    "Let's demonstrate:"
   ]
  },
  {
   "cell_type": "code",
   "execution_count": 15,
   "metadata": {},
   "outputs": [
    {
     "data": {
      "text/plain": [
       "7625597484987"
      ]
     },
     "execution_count": 15,
     "metadata": {},
     "output_type": "execute_result"
    }
   ],
   "source": [
    "x = 3\n",
    "\n",
    "x ** x ** x"
   ]
  },
  {
   "cell_type": "code",
   "execution_count": 16,
   "metadata": {},
   "outputs": [
    {
     "data": {
      "text/plain": [
       "19683"
      ]
     },
     "execution_count": 16,
     "metadata": {},
     "output_type": "execute_result"
    }
   ],
   "source": [
    "(x ** x) ** x"
   ]
  },
  {
   "cell_type": "code",
   "execution_count": 17,
   "metadata": {},
   "outputs": [
    {
     "data": {
      "text/plain": [
       "81"
      ]
     },
     "execution_count": 17,
     "metadata": {},
     "output_type": "execute_result"
    }
   ],
   "source": [
    "x ** x * x"
   ]
  },
  {
   "cell_type": "code",
   "execution_count": 18,
   "metadata": {},
   "outputs": [
    {
     "data": {
      "text/plain": [
       "78"
      ]
     },
     "execution_count": 18,
     "metadata": {},
     "output_type": "execute_result"
    }
   ],
   "source": [
    "x ** x * x - x"
   ]
  },
  {
   "cell_type": "markdown",
   "metadata": {},
   "source": [
    "Checking if a variable is of a certain type can be achieved by using the **`isinstance()`** Boolean built-in function."
   ]
  },
  {
   "cell_type": "code",
   "execution_count": 19,
   "metadata": {},
   "outputs": [
    {
     "data": {
      "text/plain": [
       "True"
      ]
     },
     "execution_count": 19,
     "metadata": {},
     "output_type": "execute_result"
    }
   ],
   "source": [
    "x = 1\n",
    "isinstance(x, int)"
   ]
  },
  {
   "cell_type": "markdown",
   "metadata": {},
   "source": [
    "## Type conversion"
   ]
  },
  {
   "cell_type": "markdown",
   "metadata": {},
   "source": [
    "Python offers several built-in functions for type conversion of values: `str()`, `int()`, `float()`.\n",
    "\n",
    "A string that contains a number can be converted to integer or float type by using the functions `int()` or `float()` respectively. The function `str(arg)` converts passed arguments into a string.\n",
    "\n",
    "`int(arg)` converts floating-point values to integers by chopping its fractional part and can also be used to convert strings into integers."
   ]
  },
  {
   "cell_type": "code",
   "execution_count": 20,
   "metadata": {},
   "outputs": [
    {
     "data": {
      "text/plain": [
       "15"
      ]
     },
     "execution_count": 20,
     "metadata": {},
     "output_type": "execute_result"
    }
   ],
   "source": [
    "int(15.9)"
   ]
  },
  {
   "cell_type": "code",
   "execution_count": 21,
   "metadata": {},
   "outputs": [
    {
     "data": {
      "text/plain": [
       "1"
      ]
     },
     "execution_count": 21,
     "metadata": {},
     "output_type": "execute_result"
    }
   ],
   "source": [
    "int('1')"
   ]
  },
  {
   "cell_type": "markdown",
   "metadata": {},
   "source": [
    "The function `str()` converts the passed argument to a string:\n",
    "str(8) -> '8', str(15.8) -> '15.8'\n",
    "\n",
    "`bool()` converts any non-zero numerical value or non-empty string to Boolean `True` and 0 or empty string to `False`"
   ]
  },
  {
   "cell_type": "code",
   "execution_count": 22,
   "metadata": {},
   "outputs": [
    {
     "data": {
      "text/plain": [
       "'8'"
      ]
     },
     "execution_count": 22,
     "metadata": {},
     "output_type": "execute_result"
    }
   ],
   "source": [
    "str(8)"
   ]
  },
  {
   "cell_type": "code",
   "execution_count": 23,
   "metadata": {},
   "outputs": [
    {
     "data": {
      "text/plain": [
       "'15.8'"
      ]
     },
     "execution_count": 23,
     "metadata": {},
     "output_type": "execute_result"
    }
   ],
   "source": [
    "str(15.8)"
   ]
  },
  {
   "cell_type": "code",
   "execution_count": 24,
   "metadata": {},
   "outputs": [
    {
     "data": {
      "text/plain": [
       "True"
      ]
     },
     "execution_count": 24,
     "metadata": {},
     "output_type": "execute_result"
    }
   ],
   "source": [
    "bool(' ')"
   ]
  },
  {
   "cell_type": "markdown",
   "metadata": {},
   "source": [
    "# Functions"
   ]
  },
  {
   "cell_type": "markdown",
   "metadata": {},
   "source": [
    "We have already seen several built-in functions: `type()`, `print()`, `str()`, `int()`, `float()`.\n",
    "\n",
    "A **function** is a named sequence of statements that perform a computation. Functions allow us to create a block of statements and make a program smaller by eliminating repetitive code. A function is defined by specifying a function name and a sequence of statements. The result of the function is called the __return value__. Some functions yield results. Others perform an action (like printing) and do not return a value &mdash; these are referred to as **void functions**. \n",
    "\n",
    "Once defined, a function can be called by its name &mdash; known as a __function call__ &mdash; any number of times throughout the program. Expressions `type(a)` and `print(type(a))` are examples of function calls that we have seen before.\n",
    "\n",
    "The definition of a new function must start with the keyword **`def`** followed by the function's name and a list of parameters in brackets. This first row of code, a function definition, ends with a colon `(:)`. If the function returns a value, the body of the function ends with a __`return`__ statement.\n",
    "\n",
    "The body of the function contains statements that will be executed every time the function is called. The scope of the function is specified by indenting the code. The standard indent is 4 spaces.\n",
    "\n",
    "The general structure of a function definition looks like this:\n",
    "\n",
    "     def function_name(param_1, param_2, ...):\n",
    "         do something with parameters\n",
    "         ...\n",
    "         return final_result"
   ]
  },
  {
   "cell_type": "markdown",
   "metadata": {},
   "source": [
    "# Conditionals"
   ]
  },
  {
   "cell_type": "markdown",
   "metadata": {},
   "source": [
    "## Conditional execution"
   ]
  },
  {
   "cell_type": "markdown",
   "metadata": {},
   "source": [
    "Conditional execution allows for the execution of specific code depending on the outcome of a logical expression. The most common conditional statements are: `if`and `else`. The `if` statement will execute the associated code under the `if` branch when the condition evaluates to `True` (at the time of evaluation), otherwise the `else` branch will be executed.\n",
    "\n",
    "Example:"
   ]
  },
  {
   "cell_type": "code",
   "execution_count": 25,
   "metadata": {},
   "outputs": [
    {
     "name": "stdout",
     "output_type": "stream",
     "text": [
      "You passed!\n"
     ]
    }
   ],
   "source": [
    "score = 92\n",
    "\n",
    "if (score > 50):\n",
    "    print(\"You passed!\")\n",
    "else:\n",
    "    print(\"You failed.\")"
   ]
  },
  {
   "cell_type": "markdown",
   "metadata": {},
   "source": [
    "The expression after `if` should be a boolean expression, i.e. an expression that evaluates to `True` or `False`. Here is a list of the comparison operators useful for constructing boolean expressions:  \n",
    "\n",
    "     x == y   Equality      \n",
    "     x != y   Inequality (e.g 5 != 6 is True)   \n",
    "     x > y    Greater than            \n",
    "     x < y    Less than              \n",
    "     x >= y   Greater than or equal   \n",
    "     x <= y   Less than or equal  \n",
    "     x is y   x is the \"same\" as y\n",
    "\n",
    "__NOTE:__ The `is` operator may appear to be the same as the equality (==) operator. However, the `is` operator checks if two variables **point to the same object**, whereas the `==` operator checks if the values for the two variables are the same."
   ]
  },
  {
   "cell_type": "markdown",
   "metadata": {},
   "source": [
    "Often, more than one comparison is required. Comparison expressions can be combined with logical operators: `and`, `or`, & `not`.\n",
    "\n",
    "Examples: \n",
    "- `grade > 60 and grade < 80` returns `True` if the value is in that range\n",
    "- `not(grade > 60)` negates the expression in brackets, and returns `True` if the grade is __less than or equal__ to 60\n",
    "\n",
    "Operator `and` returns `True` only if both boolean expressions are True. Otherwise, `False` will be returned.    \n",
    "\n",
    "- `(True and True)` -> `True`\n",
    "- `(True and False)` -> `False`  \n",
    "- `(False and True)` -> `False`  \n",
    "- `(False and False)` -> `False`\n",
    "\n",
    "Operator `or` returns `True` if at least one of the boolean expressions is `True`.\n",
    "\n",
    "- `(True or True)` -> `True`\n",
    "- `(True or False)` -> `True`\n",
    "- `(False or True)` -> `True`\n",
    "- `(False or False)` -> `False`"
   ]
  },
  {
   "cell_type": "code",
   "execution_count": 26,
   "metadata": {},
   "outputs": [
    {
     "data": {
      "text/plain": [
       "True"
      ]
     },
     "execution_count": 26,
     "metadata": {},
     "output_type": "execute_result"
    }
   ],
   "source": [
    "'''Operator `or` returns True if either x or y is True'''\n",
    "\n",
    "x = True\n",
    "y = False\n",
    "x or y"
   ]
  },
  {
   "cell_type": "markdown",
   "metadata": {},
   "source": [
    "## Chained conditionals"
   ]
  },
  {
   "cell_type": "markdown",
   "metadata": {},
   "source": [
    "`elif` (else if) statements may be used to create additional conditions which will be evaluated in order. The first condition in the sequence that evaluates to `True` will have its associated code executed. If none of the conditions evaluate to `True` then the `else` branch will be executed. There is no limit to the number of `elif` statements, but there can only be one `if` branch and one `else` branch."
   ]
  },
  {
   "cell_type": "code",
   "execution_count": 1,
   "metadata": {},
   "outputs": [
    {
     "name": "stdout",
     "output_type": "stream",
     "text": [
      "a is less than 10\n"
     ]
    }
   ],
   "source": [
    "a = 9\n",
    "if (a > 10):\n",
    "    print (\"a is greater than 10\")\n",
    "elif (a < 10):\n",
    "    print (\"a is less than 10\")\n",
    "else:\n",
    "    print (\"a is equal to 10\")"
   ]
  },
  {
   "cell_type": "markdown",
   "metadata": {},
   "source": [
    "## Nested conditionals"
   ]
  },
  {
   "cell_type": "markdown",
   "metadata": {},
   "source": [
    "Within a block of code associated with an `if...else` statement, you can nest additional `if...else` statements creating more complex code execution logic.\n",
    "\n",
    "Example:"
   ]
  },
  {
   "cell_type": "code",
   "execution_count": 28,
   "metadata": {},
   "outputs": [
    {
     "name": "stdout",
     "output_type": "stream",
     "text": [
      "He is in his 30s\n"
     ]
    }
   ],
   "source": [
    "age = 31\n",
    "if (age >= 30):\n",
    "    if (age < 40):\n",
    "        print(\"He is in his 30s\")\n",
    "    else:\n",
    "        print (\"He is not in his 30s\")\n",
    "else:\n",
    "    print(\"He is not in his 30s\")"
   ]
  },
  {
   "cell_type": "markdown",
   "metadata": {},
   "source": [
    "# Iteration"
   ]
  },
  {
   "cell_type": "markdown",
   "metadata": {},
   "source": [
    "Variables may be assigned values multiple times. The value of the variable will be updated each time a new value is assigned."
   ]
  },
  {
   "cell_type": "code",
   "execution_count": 29,
   "metadata": {},
   "outputs": [
    {
     "name": "stdout",
     "output_type": "stream",
     "text": [
      "5\n",
      "10\n"
     ]
    }
   ],
   "source": [
    "x = 5\n",
    "print(x)\n",
    "x = 10\n",
    "print(x)"
   ]
  },
  {
   "cell_type": "markdown",
   "metadata": {},
   "source": [
    "## while statement"
   ]
  },
  {
   "cell_type": "markdown",
   "metadata": {},
   "source": [
    "The `while` statement allows for efficient repetition of code. It first evaluates whether a given condition is `True`:\n",
    "- If `True`: Executes the associated code and jumps back to the condition to be re-evaluated.\n",
    "- If `False`: Ends the loop and continues to the next statement after the loop in the program."
   ]
  },
  {
   "cell_type": "code",
   "execution_count": 30,
   "metadata": {},
   "outputs": [],
   "source": [
    "def counter():\n",
    "    n=0\n",
    "    while (n < 5):\n",
    "        print(\"n is equal to \" + str(n)) \n",
    "        n += 1"
   ]
  },
  {
   "cell_type": "markdown",
   "metadata": {},
   "source": [
    "<blockquote><b>NOTE:</b> The <code>+=</code> operator was used in the last example. This operator provides a short way to update a variable.\n",
    "    The augmented assignment statement <code>n += 1</code> is equivalent to <code>n = n + 1</code>, and is the combination, in a single statement, of a binary operation and an assignment. Other examples of augmented assignment statements are <code>-=</code>, <code>*=</code>, <code>/=</code>, <code>//=</code>, <code>%=</code>, <code>**=</code>.</blockquote>"
   ]
  },
  {
   "cell_type": "code",
   "execution_count": 31,
   "metadata": {},
   "outputs": [
    {
     "data": {
      "text/plain": [
       "<function __main__.counter()>"
      ]
     },
     "execution_count": 31,
     "metadata": {},
     "output_type": "execute_result"
    }
   ],
   "source": [
    "counter"
   ]
  },
  {
   "cell_type": "code",
   "execution_count": 32,
   "metadata": {},
   "outputs": [
    {
     "name": "stdout",
     "output_type": "stream",
     "text": [
      "n is equal to 0\n",
      "n is equal to 1\n",
      "n is equal to 2\n",
      "n is equal to 3\n",
      "n is equal to 4\n"
     ]
    }
   ],
   "source": [
    "counter()"
   ]
  },
  {
   "cell_type": "markdown",
   "metadata": {},
   "source": [
    "## Infinite loops"
   ]
  },
  {
   "cell_type": "markdown",
   "metadata": {},
   "source": [
    "Infinite loops occur when a loop is written so that the condition can never evaluate to `False` and thus **continues endlessly**.\n",
    "\n",
    "Below is an example of such a loop. Without incrementing the value of `n` at the end of the loop, the `while` statement will always evaluate to `True`. If the program goes into an infinite loop it will continue to execute the same code indefinitely without progressing."
   ]
  },
  {
   "cell_type": "code",
   "execution_count": 33,
   "metadata": {},
   "outputs": [],
   "source": [
    "def counter():\n",
    "    n=0\n",
    "    while (n < 1):\n",
    "        print(\"n is equal to \" + str(n))"
   ]
  },
  {
   "cell_type": "markdown",
   "metadata": {},
   "source": [
    "The __`break`__ statement allows for a loop to be exited prematurely.\n",
    "This statement can be useful when the programmer doesn't know the number of iterations the loop must make."
   ]
  },
  {
   "cell_type": "code",
   "execution_count": 34,
   "metadata": {},
   "outputs": [
    {
     "name": "stdout",
     "output_type": "stream",
     "text": [
      "21\n"
     ]
    }
   ],
   "source": [
    "def counter(n):\n",
    "    while (n < 1000):\n",
    "        if ((n * 11) % 7 == 0):\n",
    "            print (n)\n",
    "            break\n",
    "        else:\n",
    "            n += 1\n",
    "\n",
    "counter(15)"
   ]
  },
  {
   "cell_type": "markdown",
   "metadata": {},
   "source": [
    "The `break` statement allows us to exit a loop, and the __`continue`__ statement can be used to prematurely stop the current iteration and continue with the next.\n",
    "\n",
    "An illustration of the difference between the `break`and `continue` statements:\n",
    "\n",
    "<blockquote>Let's imagine a student reading a book on the Python programming language chapter by chapter, and each chapter is an iteration.\n",
    "<br><br>\n",
    "While reading chapter 2, the student realizes they are familiar with the content of the chapter, so they jump to the next chapter (3) &mdash; this is an execution of the <code>continue</code> statement. However, if something happens that forces the student to stop reading the book altogether (e.g. realizing the book covers Python 2 instead of Python 3) this is an execution of the <code>break</code> statement.</blockquote>"
   ]
  },
  {
   "cell_type": "markdown",
   "metadata": {},
   "source": [
    "Let's consider Newton's method for computing square roots as an example of an algorithm where the number of iterations is not known in advance. To find the square root of number `n` one can start with almost any estimate `x` and then repeatedly improve the estimate with the following formula `(x + n/x)/2`. The number of steps required to get the right answer is unknown, and a `break` statement can be used when the estimate stops changing.\n"
   ]
  },
  {
   "cell_type": "code",
   "execution_count": 35,
   "metadata": {},
   "outputs": [
    {
     "name": "stdout",
     "output_type": "stream",
     "text": [
      "128.0\n",
      "65.0\n",
      "34.46923076923077\n",
      "20.94807220229001\n",
      "16.584383571973717\n",
      "16.010295955761958\n",
      "16.000003310579185\n",
      "16.00000000000034\n",
      "16.0\n"
     ]
    }
   ],
   "source": [
    "'''The implementation below assumes that\n",
    "the number used as an argument is a positive number, x > 0.''' \n",
    " \n",
    "\n",
    "def squareroot(x):\n",
    "    est = x/2\n",
    "    while True:\n",
    "        print(est)\n",
    "        y = (est + x/est)/2\n",
    "        if y == est:\n",
    "            break\n",
    "        est = y\n",
    "        \n",
    "squareroot(256)"
   ]
  },
  {
   "cell_type": "markdown",
   "metadata": {},
   "source": [
    "## Recursion"
   ]
  },
  {
   "cell_type": "markdown",
   "metadata": {},
   "source": [
    "A function can call another function. It can even call itself &mdash; this is referred to as a __recursive function__. \n",
    "\n",
    "\n",
    "As an example of a recursive function, let's consider the factorial function:"
   ]
  },
  {
   "cell_type": "code",
   "execution_count": 36,
   "metadata": {},
   "outputs": [],
   "source": [
    "def factorial(n):\n",
    "    if n == 0:\n",
    "        return 1\n",
    "    else:\n",
    "        result = n * factorial(n-1)\n",
    "        return result"
   ]
  },
  {
   "cell_type": "markdown",
   "metadata": {},
   "source": [
    "If the argument is 0, the function returns 1 since the factorial of 0 is 1 (0! = 1).\n",
    "\n",
    "If any other integer number is passed, that number `n` will be multiplied by `factorial(n - 1)` or n * (n-1)!. Next, `factorial(n-1)` will call itself and the calculation will be expanded to `n * (n-1) * factorial(n-2)` and so on. The function will keep calling itself until the argument is 0.\n",
    "\n",
    "In the end, the function will result in the value of the following expression: `n * n-1 * n-2 * ... * 2 * 1`."
   ]
  },
  {
   "cell_type": "markdown",
   "metadata": {},
   "source": [
    "## EXERCISE 1: Fibonacci Sequence"
   ]
  },
  {
   "cell_type": "markdown",
   "metadata": {},
   "source": [
    "Write a function to compute the n-th element of the Fibonacci sequence recursively.\n",
    "\n",
    "If you need to familiarize yourself with the Fibonacci sequence, please refer to\n",
    "https://en.wikipedia.org/wiki/Fibonacci_number (Fibonacci number, n.d.).\n",
    "The function should take an integer number `n` as an argument and return n-th element of the Fibonacci sequence.\n",
    "The first two numbers in the sequence are 0 and 1, and each subsequent number is the sum of the previous two."
   ]
  },
  {
   "cell_type": "code",
   "execution_count": 38,
   "metadata": {},
   "outputs": [],
   "source": [
    "'''Exercise 1 Solution.\n",
    "\n",
    "The first two numbers are 0 and 1; so that if n is 0 or 1,\n",
    "the numbers in Fibonacci sequence are 0 and 1, correspondingly.\n",
    "For other n we take sum of two preceding numbers in the sequence.'''\n",
    "\n",
    "\n",
    "def fibonacci(n):\n",
    "    if n <= 1:\n",
    "        return n\n",
    "    else:\n",
    "        return fibonacci(n-1) + fibonacci(n-2)"
   ]
  },
  {
   "cell_type": "markdown",
   "metadata": {},
   "source": [
    "# References\n",
    "\n",
    "Hashemi, M. (2014). [https://www.paypal-engineering.com/2014/12/10/10-myths-of-enterprise-python/](https://www.paypal-engineering.com/2014/12/10/10-myths-of-enterprise-python/)\n",
    "\n",
    "McKinney, W. (2017). *Python for Data Analysis: Data Wrangling with Pandas, NumPy, and IPython* (2nd edition). O'Reilly Media.\n",
    "\n",
    "\n",
    "Fibonacci number (n.d.). https://en.wikipedia.org/wiki/Fibonacci_number."
   ]
  }
 ],
 "metadata": {
  "celltoolbar": "Raw Cell Format",
  "kernelspec": {
   "display_name": "Python 3 (ipykernel)",
   "language": "python",
   "name": "python3"
  },
  "language_info": {
   "codemirror_mode": {
    "name": "ipython",
    "version": 3
   },
   "file_extension": ".py",
   "mimetype": "text/x-python",
   "name": "python",
   "nbconvert_exporter": "python",
   "pygments_lexer": "ipython3",
   "version": "3.11.4"
  },
  "toc": {
   "base_numbering": 1,
   "nav_menu": {},
   "number_sections": false,
   "sideBar": true,
   "skip_h1_title": false,
   "title_cell": "Table of Contents",
   "title_sidebar": "Contents",
   "toc_cell": false,
   "toc_position": {},
   "toc_section_display": true,
   "toc_window_display": false
  }
 },
 "nbformat": 4,
 "nbformat_minor": 2
}
